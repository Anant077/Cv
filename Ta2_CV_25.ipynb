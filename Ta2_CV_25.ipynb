{
 "cells": [
  {
   "cell_type": "markdown",
   "id": "276a97e8-ed46-43da-bec6-d6e96af87769",
   "metadata": {},
   "source": [
    "## Name - Anant Jejani\n",
    "## Roll no-25\n",
    "## Subject - CV \n",
    "## Ta-2 Mini Project"
   ]
  },
  {
   "cell_type": "code",
   "execution_count": 4,
   "id": "2815d015-2c73-4545-8146-375c4f14730e",
   "metadata": {},
   "outputs": [],
   "source": [
    "import cv2\n",
    "import numpy as np\n",
    "\n",
    "\n",
    "img = cv2.imread(r\"C:\\Users\\HP\\Downloads\\brain.jpg\")\n",
    "gray = cv2.cvtColor(img, cv2.COLOR_BGR2GRAY)\n",
    "gray = np.float32(gray)\n",
    "\n",
    "dst = cv2.cornerHarris(gray, blockSize=2, ksize=3, k=0.04)\n",
    "dst = cv2.dilate(dst, None)\n",
    "\n",
    "# Threshold and mark corners\n",
    "img[dst > 0.01 * dst.max()] = [0, 0, 255]\n",
    "\n",
    "cv2.imshow('Harris Corners', img)\n",
    "cv2.waitKey(0)\n",
    "cv2.destroyAllWindows()\n"
   ]
  },
  {
   "cell_type": "code",
   "execution_count": 8,
   "id": "27e8b077-b3a9-42e9-bab6-583304f640d4",
   "metadata": {},
   "outputs": [
    {
     "name": "stderr",
     "output_type": "stream",
     "text": [
      "C:\\Users\\HP\\AppData\\Local\\Temp\\ipykernel_22096\\1324837769.py:10: DeprecationWarning: `np.int0` is a deprecated alias for `np.intp`.  (Deprecated NumPy 1.24)\n",
      "  corners = np.int0(corners)\n"
     ]
    }
   ],
   "source": [
    "import cv2\n",
    "import numpy as np\n",
    "\n",
    "# Load image\n",
    "img = cv2.imread(r\"C:\\Users\\HP\\Downloads\\brain.jpg\")\n",
    "gray = cv2.cvtColor(img, cv2.COLOR_BGR2GRAY)\n",
    "\n",
    "# Detect Shi-Tomasi corners\n",
    "corners = cv2.goodFeaturesToTrack(gray, maxCorners=100, qualityLevel=0.01, minDistance=10)\n",
    "corners = np.int0(corners)\n",
    "\n",
    "# Draw corners\n",
    "for corner in corners:\n",
    "    x, y = corner.ravel()\n",
    "    cv2.circle(img, (x, y), 4, (0, 255, 0), -1)\n",
    "\n",
    "cv2.imshow('Shi-Tomasi Corners', img)\n",
    "cv2.waitKey(0)\n",
    "cv2.destroyAllWindows()\n"
   ]
  },
  {
   "cell_type": "code",
   "execution_count": 12,
   "id": "f037547c-7916-4d6b-ba53-b11428e141ab",
   "metadata": {},
   "outputs": [],
   "source": [
    "import cv2\n",
    "import numpy as np\n",
    "\n",
    "img = cv2.imread(r\"C:\\Users\\HP\\Downloads\\brain.jpg\", cv2.IMREAD_GRAYSCALE)\n",
    "\n",
    "params = cv2.SimpleBlobDetector_Params()\n",
    "params.filterByArea = True\n",
    "params.minArea = 100  # Increase/decrease as per your image\n",
    "params.filterByCircularity = True\n",
    "params.minCircularity = 0.7  # 0 = not round, 1 = perfect circle\n",
    "params.filterByConvexity = True\n",
    "params.minConvexity = 0.8\n",
    "params.filterByInertia = True\n",
    "params.minInertiaRatio = 0.1\n",
    "detector = cv2.SimpleBlobDetector_create(params)\n",
    "\n",
    "keypoints = detector.detect(img)\n",
    "\n",
    "img_with_keypoints = cv2.drawKeypoints(\n",
    "    img, keypoints, np.array([]), (0, 0, 255),\n",
    "    cv2.DRAW_MATCHES_FLAGS_DRAW_RICH_KEYPOINTS\n",
    ")\n",
    "\n",
    "cv2.imshow(\"Blob Detection\", img_with_keypoints)\n",
    "cv2.waitKey(0)\n",
    "cv2.destroyAllWindows()\n"
   ]
  },
  {
   "cell_type": "code",
   "execution_count": null,
   "id": "79be29fe-51e6-424c-be9f-30fa0ff0b0db",
   "metadata": {},
   "outputs": [],
   "source": []
  }
 ],
 "metadata": {
  "kernelspec": {
   "display_name": "Python 3 (ipykernel)",
   "language": "python",
   "name": "python3"
  },
  "language_info": {
   "codemirror_mode": {
    "name": "ipython",
    "version": 3
   },
   "file_extension": ".py",
   "mimetype": "text/x-python",
   "name": "python",
   "nbconvert_exporter": "python",
   "pygments_lexer": "ipython3",
   "version": "3.12.4"
  }
 },
 "nbformat": 4,
 "nbformat_minor": 5
}
